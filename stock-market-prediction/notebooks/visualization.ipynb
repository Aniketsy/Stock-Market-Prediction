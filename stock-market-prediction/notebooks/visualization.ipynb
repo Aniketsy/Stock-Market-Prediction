{
 "cells": [
  {
   "cell_type": "markdown",
   "metadata": {},
   "source": [
    "# Visualization Notebook\n",
    "\n",
    "This notebook is used for visualizing stock data and generating insights."
   ]
  },
  {
   "cell_type": "code",
   "execution_count": null,
   "metadata": {},
   "outputs": [],
   "source": [
    "import pandas as pd\n",
    "import matplotlib.pyplot as plt\n",
    "from src.visualization import plot_stock_prices, plot_correlation_matrix\n",
    "\n",
    "# Load the stock data\n",
    "data = pd.read_csv('../data/stock_data.csv')\n",
    "\n",
    "# Visualize stock prices\n",
    "plot_stock_prices(data)\n",
    "\n",
    "# Visualize correlation matrix\n",
    "plot_correlation_matrix(data)\n",
    "\n",
    "# Show plots\n",
    "plt.show()"
   ]
  }
 ],
 "metadata": {
  "kernelspec": {
   "display_name": "Python 3",
   "language": "python",
   "name": "python3"
  },
  "language_info": {
   "codemirror_mode": {
    "name": "ipython",
    "version": 3
   },
   "file_extension": ".py",
   "mimetype": "text/x-python",
   "name": "python",
   "nbconvert_exporter": "python",
   "pygments_lexer": "ipython3",
   "version": "3.8.5"
  }
 },
 "nbformat": 4,
 "nbformat_minor": 4
}