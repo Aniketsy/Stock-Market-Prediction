{
 "cells": [
  {
   "cell_type": "code",
   "execution_count": null,
   "metadata": {},
   "outputs": [],
   "source": [
    "import pandas as pd\n",
    "\n",
    "def load_data(file_path):\n",
    "    \"\"\"Load stock data from a CSV file.\"\"\"\n",
    "    data = pd.read_csv(file_path)\n",
    "    return data\n",
    "\n",
    "def clean_data(data):\n",
    "    \"\"\"Clean the stock data by handling missing values.\"\"\"\n",
    "    data = data.dropna()  # Remove rows with missing values\n",
    "    return data\n",
    "\n",
    "# Load and clean the data\n",
    "file_path = '../data/stock_data.csv'\n",
    "stock_data = load_data(file_path)\n",
    "cleaned_data = clean_data(stock_data)\n",
    "\n",
    "# Display the cleaned data\n",
    "cleaned_data.head()"
   ]
  }
 ],
 "metadata": {
  "kernelspec": {
   "display_name": "Python 3",
   "language": "python",
   "name": "python3"
  },
  "language_info": {
   "codemirror_mode": {
    "name": "ipython",
    "version": 3
   },
   "file_extension": ".py",
   "mimetype": "text/x-python",
   "name": "python",
   "nbconvert_exporter": "python",
   "pygments_lexer": "ipython3",
   "version": "3.8.5"
  }
 },
 "nbformat": 4,
 "nbformat_minor": 4
}